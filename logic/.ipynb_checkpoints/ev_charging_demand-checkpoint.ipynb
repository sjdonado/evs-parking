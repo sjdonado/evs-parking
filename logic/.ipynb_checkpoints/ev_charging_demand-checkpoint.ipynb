{
  "nbformat": 4,
  "nbformat_minor": 0,
  "metadata": {
    "colab": {
      "provenance": []
    },
    "kernelspec": {
      "name": "python3",
      "display_name": "Python 3"
    },
    "language_info": {
      "name": "python"
    }
  },
  "cells": [
    {
      "cell_type": "code",
      "execution_count": 15,
      "metadata": {
        "id": "e4FtuWNCK24I"
      },
      "outputs": [],
      "source": [
        "import random"
      ]
    },
    {
      "cell_type": "code",
      "source": [
        "arrival_probabilities = [\n",
        "    0.0094,\n",
        "    0.0094,\n",
        "    0.0094,\n",
        "    0.0094,\n",
        "    0.0094,\n",
        "    0.0094,\n",
        "    0.0094,\n",
        "    0.0094,\n",
        "    0.0283,\n",
        "    0.0283,\n",
        "    0.0566,\n",
        "    0.0566,\n",
        "    0.0566,\n",
        "    0.0755,\n",
        "    0.0755,\n",
        "    0.0755,\n",
        "    0.1038,\n",
        "    0.1038,\n",
        "    0.1038,\n",
        "    0.0472,\n",
        "    0.0472,\n",
        "    0.0472,\n",
        "    0.0094,\n",
        "    0.0094\n",
        "]\n",
        "\n",
        "charging_demand_probabilities = [\n",
        "    (0.3431, 0),\n",
        "    (0.0490, 5),\n",
        "    (0.0980, 10),\n",
        "    (0.1176, 20),\n",
        "    (0.0882, 30),\n",
        "    (0.1176, 50),\n",
        "    (0.1078, 100),\n",
        "    (0.0490, 200),\n",
        "    (0.0294, 300)\n",
        "]"
      ],
      "metadata": {
        "id": "x5C6R7NdMpAk"
      },
      "execution_count": 33,
      "outputs": []
    },
    {
      "cell_type": "code",
      "source": [
        "def simulate_chargepoint(num_ticks, chargepoint_states, total_energy_per_tick, power_demand_per_tick, charging_power, minutes_per_tick, kwh_per_100km):\n",
        "    total_energy = 0\n",
        "\n",
        "    for tick in range(num_ticks):\n",
        "        if chargepoint_states[tick] is False:\n",
        "            hour_of_day = (tick // (60 // minutes_per_tick)) % 24\n",
        "            if random.random() < arrival_probabilities[hour_of_day]:\n",
        "                charging_demand = random.choices(charging_demand_probabilities, weights=[p[0] for p in charging_demand_probabilities])[0][1]\n",
        "                if charging_demand > 0:\n",
        "                    charge_ticks_remaining = int(charging_demand / 100 * kwh_per_100km / charging_power * 60 / minutes_per_tick)\n",
        "                    for i in range(tick, min(tick + charge_ticks_remaining, num_ticks)):\n",
        "                        chargepoint_states[i] = True\n",
        "                        total_energy_per_tick[i] += charging_power * minutes_per_tick / 60\n",
        "                        power_demand_per_tick[i] += charging_power\n",
        "        else:\n",
        "            chargepoint_states[tick] = False\n",
        "            total_energy += charging_power * minutes_per_tick / 60\n",
        "\n",
        "    return total_energy"
      ],
      "metadata": {
        "id": "X6OYbUXPMsia"
      },
      "execution_count": 34,
      "outputs": []
    },
    {
      "cell_type": "code",
      "source": [
        "def run(num_chargepoints, charging_power, minutes_per_tick, kwh_per_100km):\n",
        "    ticks_per_hour = 60 // minutes_per_tick\n",
        "    ticks_per_day = 24 * ticks_per_hour\n",
        "    ticks_per_year = 365 * ticks_per_day\n",
        "\n",
        "    chargepoint_states = {tick: False for tick in range(ticks_per_year)}\n",
        "    total_energy_per_tick = {tick: 0 for tick in range(ticks_per_year)}\n",
        "    power_demand_per_tick = {tick: 0 for tick in range(ticks_per_year)}\n",
        "\n",
        "    for _ in range(num_chargepoints):\n",
        "        simulate_chargepoint(ticks_per_year, chargepoint_states, total_energy_per_tick, power_demand_per_tick, charging_power, minutes_per_tick, kwh_per_100km)\n",
        "\n",
        "    total_energy_consumed = sum(total_energy_per_tick.values())\n",
        "    max_power_demand = max(power_demand_per_tick.values())\n",
        "    theoretical_max_power_demand = num_chargepoints * charging_power\n",
        "    concurrency_factor = max_power_demand / theoretical_max_power_demand\n",
        "\n",
        "    print(f\"Total energy consumed: {total_energy_consumed:.2f} kWh\")\n",
        "    print(f\"Theoretical maximum power demand: {theoretical_max_power_demand:.2f} kW\")\n",
        "    print(f\"Actual maximum power demand: {max_power_demand:.2f} kW\")\n",
        "    print(f\"Concurrency factor: {concurrency_factor:.2f}\")"
      ],
      "metadata": {
        "id": "kMSs1E7PMuSH"
      },
      "execution_count": 35,
      "outputs": []
    },
    {
      "cell_type": "code",
      "source": [
        "NUM_CHARGEPOINTS = 20\n",
        "CHARGING_POWER = 11  # kW\n",
        "MINUTES_PER_TICK = 15\n",
        "KWH_PER_100KM = 18\n",
        "\n",
        "run(NUM_CHARGEPOINTS, CHARGING_POWER, MINUTES_PER_TICK, KWH_PER_100KM)"
      ],
      "metadata": {
        "colab": {
          "base_uri": "https://localhost:8080/"
        },
        "id": "6ALwQzhZXVuX",
        "outputId": "7f0f7319-1847-4130-98ac-898fe28b6603"
      },
      "execution_count": 36,
      "outputs": [
        {
          "output_type": "stream",
          "name": "stdout",
          "text": [
            "Total energy consumed: 168806.00 kWh\n",
            "Theoretical maximum power demand: 220.00 kW\n",
            "Actual maximum power demand: 110.00 kW\n",
            "Concurrency factor: 0.50\n"
          ]
        }
      ]
    }
  ]
}