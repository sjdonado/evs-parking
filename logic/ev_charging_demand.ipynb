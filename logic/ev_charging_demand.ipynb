{
 "cells": [
  {
   "cell_type": "code",
   "execution_count": 49,
   "metadata": {
    "id": "e4FtuWNCK24I"
   },
   "outputs": [],
   "source": [
    "import random\n",
    "import math\n",
    "import datetime"
   ]
  },
  {
   "cell_type": "code",
   "execution_count": 6,
   "metadata": {
    "id": "x5C6R7NdMpAk"
   },
   "outputs": [],
   "source": [
    "arrival_probabilities = [\n",
    "    0.0094,\n",
    "    0.0094,\n",
    "    0.0094,\n",
    "    0.0094,\n",
    "    0.0094,\n",
    "    0.0094,\n",
    "    0.0094,\n",
    "    0.0094,\n",
    "    0.0283,\n",
    "    0.0283,\n",
    "    0.0566,\n",
    "    0.0566,\n",
    "    0.0566,\n",
    "    0.0755,\n",
    "    0.0755,\n",
    "    0.0755,\n",
    "    0.1038,\n",
    "    0.1038,\n",
    "    0.1038,\n",
    "    0.0472,\n",
    "    0.0472,\n",
    "    0.0472,\n",
    "    0.0094,\n",
    "    0.0094\n",
    "]\n",
    "\n",
    "charging_demand_probabilities = [\n",
    "    (0.3431, 0),\n",
    "    (0.0490, 5),\n",
    "    (0.0980, 10),\n",
    "    (0.1176, 20),\n",
    "    (0.0882, 30),\n",
    "    (0.1176, 50),\n",
    "    (0.1078, 100),\n",
    "    (0.0490, 200),\n",
    "    (0.0294, 300)\n",
    "]"
   ]
  },
  {
   "cell_type": "code",
   "execution_count": 41,
   "metadata": {
    "id": "X6OYbUXPMsia"
   },
   "outputs": [],
   "source": [
    "def simulate_chargepoint(ticks_per_year, ticks_per_hour, chargepoint_states, total_energy_per_tick, power_demand_per_tick, charging_power, minutes_per_tick, kwh_per_100km):\n",
    "    for tick in range(ticks_per_year):\n",
    "        if chargepoint_states[tick] is False:\n",
    "            hour_of_day = (tick // ticks_per_hour) % 24\n",
    "            if random.random() < arrival_probabilities[hour_of_day]:\n",
    "                charging_demand = random.choices(charging_demand_probabilities, weights=[p[0] for p in charging_demand_probabilities])[0][1]\n",
    "                if charging_demand > 0:\n",
    "                    charge_ticks_remaining = int(charging_demand / 100 * kwh_per_100km / charging_power * 60 / minutes_per_tick)\n",
    "                    for i in range(tick, min(tick + charge_ticks_remaining, ticks_per_year)):\n",
    "                        chargepoint_states[i] = True\n",
    "                        total_energy_per_tick[i] += charging_power * minutes_per_tick / 60\n",
    "                        power_demand_per_tick[i] += charging_power\n",
    "        else:\n",
    "            chargepoint_states[tick] = False"
   ]
  },
  {
   "cell_type": "code",
   "execution_count": 45,
   "metadata": {
    "id": "kMSs1E7PMuSH"
   },
   "outputs": [],
   "source": [
    "def run(num_chargepoints, charging_power, minutes_per_tick, kwh_per_100km, simulation_fn = simulate_chargepoint):\n",
    "    ticks_per_hour = 60 // minutes_per_tick\n",
    "    ticks_per_day = 24 * ticks_per_hour\n",
    "    ticks_per_year = 365 * ticks_per_day\n",
    "\n",
    "    chargepoint_states = {tick: False for tick in range(ticks_per_year)}\n",
    "    total_energy_per_tick = {tick: 0 for tick in range(ticks_per_year)}\n",
    "    power_demand_per_tick = {tick: 0 for tick in range(ticks_per_year)}\n",
    "\n",
    "    for _ in range(num_chargepoints):\n",
    "        simulate_chargepoint(ticks_per_year, ticks_per_hour, chargepoint_states, total_energy_per_tick, power_demand_per_tick, charging_power, minutes_per_tick, kwh_per_100km)\n",
    "\n",
    "    total_energy_consumed = sum(total_energy_per_tick.values())\n",
    "    max_power_demand = max(power_demand_per_tick.values())\n",
    "    theoretical_max_power_demand = num_chargepoints * charging_power\n",
    "\n",
    "    return {\n",
    "        'total_energy_consumed': total_energy_consumed,\n",
    "        'max_power_demand': max_power_demand,\n",
    "        'theoretical_max_power_demand': theoretical_max_power_demand,\n",
    "        'concurrency_factor': max_power_demand / theoretical_max_power_demand\n",
    "    }"
   ]
  },
  {
   "cell_type": "code",
   "execution_count": 46,
   "metadata": {
    "colab": {
     "base_uri": "https://localhost:8080/"
    },
    "id": "6ALwQzhZXVuX",
    "outputId": "7f0f7319-1847-4130-98ac-898fe28b6603"
   },
   "outputs": [
    {
     "name": "stdout",
     "output_type": "stream",
     "text": [
      "Total energy consumed: 171171.00 kWh\n",
      "Theoretical maximum power demand: 220.00 kW\n",
      "Actual maximum power demand: 121.00 kW\n",
      "Concurrency factor: 0.55\n"
     ]
    }
   ],
   "source": [
    "NUM_CHARGEPOINTS = 20\n",
    "CHARGING_POWER = 11  # kW\n",
    "MINUTES_PER_TICK = 15\n",
    "KWH_PER_100KM = 18\n",
    "\n",
    "output = run(NUM_CHARGEPOINTS, CHARGING_POWER, MINUTES_PER_TICK, KWH_PER_100KM)\n",
    "\n",
    "print(f\"Total energy consumed: {output['total_energy_consumed']:.2f} kWh\")\n",
    "print(f\"Theoretical maximum power demand: {output['theoretical_max_power_demand']:.2f} kW\")\n",
    "print(f\"Actual maximum power demand: {output['max_power_demand']:.2f} kW\")\n",
    "print(f\"Concurrency factor: {output['concurrency_factor']:.2f}\")"
   ]
  },
  {
   "cell_type": "code",
   "execution_count": 44,
   "metadata": {},
   "outputs": [
    {
     "name": "stdout",
     "output_type": "stream",
     "text": [
      "1 chargepoint(s) - factor: 1.00 - deviation from 35%: 0.65 - deviation from 55%: 0.45\n",
      "2 chargepoint(s) - factor: 1.00 - deviation from 35%: 0.65 - deviation from 55%: 0.45\n",
      "3 chargepoint(s) - factor: 1.00 - deviation from 35%: 0.65 - deviation from 55%: 0.45\n",
      "4 chargepoint(s) - factor: 1.00 - deviation from 35%: 0.65 - deviation from 55%: 0.45\n",
      "5 chargepoint(s) - factor: 0.80 - deviation from 35%: 0.45 - deviation from 55%: 0.25\n",
      "6 chargepoint(s) - factor: 0.83 - deviation from 35%: 0.48 - deviation from 55%: 0.28\n",
      "7 chargepoint(s) - factor: 0.86 - deviation from 35%: 0.51 - deviation from 55%: 0.31\n",
      "8 chargepoint(s) - factor: 0.75 - deviation from 35%: 0.40 - deviation from 55%: 0.20\n",
      "9 chargepoint(s) - factor: 0.67 - deviation from 35%: 0.32 - deviation from 55%: 0.12\n",
      "10 chargepoint(s) - factor: 0.70 - deviation from 35%: 0.35 - deviation from 55%: 0.15\n",
      "11 chargepoint(s) - factor: 0.73 - deviation from 35%: 0.38 - deviation from 55%: 0.18\n",
      "12 chargepoint(s) - factor: 0.67 - deviation from 35%: 0.32 - deviation from 55%: 0.12\n",
      "13 chargepoint(s) - factor: 0.62 - deviation from 35%: 0.27 - deviation from 55%: 0.07\n",
      "14 chargepoint(s) - factor: 0.57 - deviation from 35%: 0.22 - deviation from 55%: 0.02\n",
      "15 chargepoint(s) - factor: 0.60 - deviation from 35%: 0.25 - deviation from 55%: 0.05\n",
      "16 chargepoint(s) - factor: 0.56 - deviation from 35%: 0.21 - deviation from 55%: 0.01\n",
      "17 chargepoint(s) - factor: 0.65 - deviation from 35%: 0.30 - deviation from 55%: 0.10\n",
      "18 chargepoint(s) - factor: 0.56 - deviation from 35%: 0.21 - deviation from 55%: 0.01\n",
      "19 chargepoint(s) - factor: 0.53 - deviation from 35%: 0.18 - deviation from 55%: -0.02\n",
      "20 chargepoint(s) - factor: 0.50 - deviation from 35%: 0.15 - deviation from 55%: -0.05\n",
      "21 chargepoint(s) - factor: 0.52 - deviation from 35%: 0.17 - deviation from 55%: -0.03\n",
      "22 chargepoint(s) - factor: 0.55 - deviation from 35%: 0.20 - deviation from 55%: -0.00\n",
      "23 chargepoint(s) - factor: 0.48 - deviation from 35%: 0.13 - deviation from 55%: -0.07\n",
      "24 chargepoint(s) - factor: 0.42 - deviation from 35%: 0.07 - deviation from 55%: -0.13\n",
      "25 chargepoint(s) - factor: 0.48 - deviation from 35%: 0.13 - deviation from 55%: -0.07\n",
      "26 chargepoint(s) - factor: 0.50 - deviation from 35%: 0.15 - deviation from 55%: -0.05\n",
      "27 chargepoint(s) - factor: 0.48 - deviation from 35%: 0.13 - deviation from 55%: -0.07\n",
      "28 chargepoint(s) - factor: 0.46 - deviation from 35%: 0.11 - deviation from 55%: -0.09\n",
      "29 chargepoint(s) - factor: 0.45 - deviation from 35%: 0.10 - deviation from 55%: -0.10\n",
      "30 chargepoint(s) - factor: 0.50 - deviation from 35%: 0.15 - deviation from 55%: -0.05\n",
      "\n",
      "Mean Concurrency Factor: 0.65\n",
      "Standard Deviation: 0.18\n"
     ]
    }
   ],
   "source": [
    "# Run the program from task 1 for between 1 and 30 chargepoints. How does the concurrency factor behave?\n",
    "\n",
    "MAX_NUM_CHARGEPOINTS = 30\n",
    "CHARGING_POWER = 11  # kW\n",
    "MINUTES_PER_TICK = 15\n",
    "KWH_PER_100KM = 18\n",
    "\n",
    "concurrency_factors = []\n",
    "\n",
    "for num_chargepoints in range(1, MAX_NUM_CHARGEPOINTS + 1):\n",
    "    output = run(num_chargepoints, CHARGING_POWER, MINUTES_PER_TICK, KWH_PER_100KM)\n",
    "    factor = output['concurrency_factor']\n",
    "    print(f\"{num_chargepoints} chargepoint(s) - factor: {factor:.2f} - deviation from 35%: {factor - 0.35:.2f} - deviation from 55%: {factor - 0.55:.2f}\")\n",
    "    concurrency_factors.append(factor)\n",
    "\n",
    "# Calculate standard deviation\n",
    "mean = sum(concurrency_factors) / len(concurrency_factors)\n",
    "variances = [(factor - mean) ** 2 for factor in concurrency_factors]\n",
    "standard_deviation = math.sqrt(sum(variances) / len(variances))\n",
    "\n",
    "print(f\"\\nMean Concurrency Factor: {mean:.2f}\")\n",
    "print(f\"Standard Deviation: {standard_deviation:.2f}\")"
   ]
  },
  {
   "cell_type": "code",
   "execution_count": 51,
   "metadata": {},
   "outputs": [
    {
     "name": "stdout",
     "output_type": "stream",
     "text": [
      "Total energy consumed: 167216.50 kWh\n",
      "Theoretical maximum power demand: 220.00 kW\n",
      "Actual maximum power demand: 110.00 kW\n",
      "Concurrency factor: 0.50\n"
     ]
    }
   ],
   "source": [
    "# If you consider the impact of DST vs. mapping the hours to the 15 minute ticks.\n",
    "\n",
    "DST_START = datetime.datetime(2024, 3, 10)  # March 10, 2024\n",
    "DST_END = datetime.datetime(2024, 11, 3)    # November 3, 2024\n",
    "\n",
    "def simulate_chargepoint_with_DTS(ticks_per_year, ticks_per_hour, chargepoint_states, total_energy_per_tick, power_demand_per_tick, charging_power, minutes_per_tick, kwh_per_100km):    \n",
    "    for tick in range(ticks_per_year):\n",
    "        dts_tick = tick\n",
    "        \n",
    "        date = datetime.datetime(2024, 1, 1) + datetime.timedelta(minutes=tick * minutes_per_tick)\n",
    "        if DST_START <= date < DST_END:\n",
    "            # During DST period, the hour of the day is shifted by 1\n",
    "            dts_tick = tick - ticks_per_hour\n",
    "        \n",
    "        if chargepoint_states[tick] is False:\n",
    "            hour_of_day = (dts_tick // ticks_per_hour) % 24\n",
    "            if random.random() < arrival_probabilities[hour_of_day]:\n",
    "                charging_demand = random.choices(charging_demand_probabilities, weights=[p[0] for p in charging_demand_probabilities])[0][1]\n",
    "                if charging_demand > 0:\n",
    "                    charge_ticks_remaining = int(charging_demand / 100 * kwh_per_100km / charging_power * 60 / minutes_per_tick)\n",
    "                    for i in range(tick, min(tick + charge_ticks_remaining, ticks_per_year)):\n",
    "                        chargepoint_states[i] = True\n",
    "                        total_energy_per_tick[i] += charging_power * minutes_per_tick / 60\n",
    "                        power_demand_per_tick[i] += charging_power\n",
    "        else:\n",
    "            chargepoint_states[tick] = False\n",
    "\n",
    "NUM_CHARGEPOINTS = 20\n",
    "CHARGING_POWER = 11  # kW\n",
    "MINUTES_PER_TICK = 15\n",
    "KWH_PER_100KM = 18\n",
    "\n",
    "output = run(NUM_CHARGEPOINTS, CHARGING_POWER, MINUTES_PER_TICK, KWH_PER_100KM, simulate_chargepoint_with_DTS)\n",
    "\n",
    "print(f\"Total energy consumed: {output['total_energy_consumed']:.2f} kWh\")\n",
    "print(f\"Theoretical maximum power demand: {output['theoretical_max_power_demand']:.2f} kW\")\n",
    "print(f\"Actual maximum power demand: {output['max_power_demand']:.2f} kW\")\n",
    "print(f\"Concurrency factor: {output['concurrency_factor']:.2f}\")"
   ]
  }
 ],
 "metadata": {
  "colab": {
   "provenance": []
  },
  "kernelspec": {
   "display_name": "Python 3 (ipykernel)",
   "language": "python",
   "name": "python3"
  },
  "language_info": {
   "codemirror_mode": {
    "name": "ipython",
    "version": 3
   },
   "file_extension": ".py",
   "mimetype": "text/x-python",
   "name": "python",
   "nbconvert_exporter": "python",
   "pygments_lexer": "ipython3",
   "version": "3.12.3"
  }
 },
 "nbformat": 4,
 "nbformat_minor": 4
}
